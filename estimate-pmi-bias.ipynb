{
 "cells": [
  {
   "cell_type": "code",
   "execution_count": 263,
   "metadata": {},
   "outputs": [
    {
     "name": "stderr",
     "output_type": "stream",
     "text": [
      "/Users/i.lobov/research/lib/python3.6/site-packages/ipykernel_launcher.py:20: RuntimeWarning: divide by zero encountered in log\n"
     ]
    }
   ],
   "source": [
    "import numpy as np\n",
    "import scipy as sp\n",
    "from scipy import linalg as sp_linalg\n",
    "from sinkhorn_knopp import sinkhorn_knopp as skp\n",
    "\n",
    "V = 100\n",
    "rng = np.random.RandomState(0)\n",
    "\n",
    "power_law_seed = rng.power(a=1.0, size=V)\n",
    "P_ij = np.triu(rng.lognormal(mean=1, sigma=1, size=[V, V]), k=1)\n",
    "P_ij *= power_law_seed\n",
    "P_ij += P_ij.T #P_ij == P_ji\n",
    "P_ij /= P_ij.sum()\n",
    "\n",
    "p_i = P_ij.sum(axis=1)\n",
    "P_i = np.diag(p_i)\n",
    "P_i_inv = np.diag(1.0 / p_i)\n",
    "similarities = P_i_inv.dot(P_ij).dot(P_i_inv)\n",
    "\n",
    "pmis = np.log(similarities)\n",
    "pmis[pmis == -np.inf] = 0\n",
    "\n",
    "assert np.allclose(similarities, similarities.T)\n",
    "assert np.allclose(similarities.dot(P_i).sum(axis=1), 1)\n",
    "assert np.allclose(P_ij, P_ij.T)\n",
    "assert np.allclose(pmis, pmis.T)\n",
    "assert np.allclose(P_i.sum(), 1)\n",
    "assert np.allclose(P_ij.sum(), 1)"
   ]
  },
  {
   "cell_type": "code",
   "execution_count": 264,
   "metadata": {},
   "outputs": [
    {
     "data": {
      "text/plain": [
       "(0.00012232142177970225, 0.025151188047223612)"
      ]
     },
     "execution_count": 264,
     "metadata": {},
     "output_type": "execute_result"
    }
   ],
   "source": [
    "p_i.min(), p_i.max()"
   ]
  },
  {
   "cell_type": "code",
   "execution_count": 265,
   "metadata": {},
   "outputs": [
    {
     "data": {
      "text/plain": [
       "(0.0022734043329924124, 20.83410688459186)"
      ]
     },
     "execution_count": 265,
     "metadata": {},
     "output_type": "execute_result"
    }
   ],
   "source": [
    "similarities[similarities != 0].min(), similarities.max()"
   ]
  },
  {
   "cell_type": "code",
   "execution_count": 266,
   "metadata": {},
   "outputs": [
    {
     "name": "stdout",
     "output_type": "stream",
     "text": [
      "1 1.0265443841464265e-08 9.772192955583414e-07 nan nan\n",
      "10 1.0409332259158267e-09 1.2131419508590086e-07 1.7195876544205315 0.7776803743490577\n",
      "100 1.0273522714604914e-10 8.546234406636178e-09 0.04470665924422943 0.135661693163949\n",
      "1000 9.772329768455331e-12 9.540590481283047e-10 0.004631978564807558 0.021746243928775912\n",
      "10000 1.0144610429671092e-12 1.0279129976052298e-10 0.00046961534909790564 0.002674273709495486\n",
      "100000 1.0017957205287814e-13 9.874178361735818e-12 5.066247675350424e-05 0.00010328054829645623\n",
      "1000000 1.0011063211109766e-14 8.22683312486442e-13 5.3453815474824934e-06 1.1498798612890605e-05\n",
      "10000000 9.825277364317782e-16 1.0647339845845071e-13 5.218583849162609e-07 1.03953639398122e-06\n"
     ]
    },
    {
     "name": "stderr",
     "output_type": "stream",
     "text": [
      "/Users/i.lobov/research/lib/python3.6/site-packages/ipykernel_launcher.py:11: RuntimeWarning: divide by zero encountered in true_divide\n",
      "  # This is added back by InteractiveShellApp.init_path()\n",
      "/Users/i.lobov/research/lib/python3.6/site-packages/ipykernel_launcher.py:15: RuntimeWarning: divide by zero encountered in log\n",
      "  from ipykernel import kernelapp as app\n"
     ]
    }
   ],
   "source": [
    "rng = np.random.RandomState(0)\n",
    "num_vars = V**2\n",
    "for n in [1, 10, 100, 1000, 10000, 100000, 1000000, 10000000]:\n",
    "    emp_ij = rng.multinomial(n * num_vars, P_ij.flatten()).reshape([V, V])\n",
    "    emp_ij = emp_ij / emp_ij.sum()\n",
    "    P_ij_err = ((emp_ij - P_ij)**2).mean()\n",
    "    \n",
    "    emp_i = emp_ij.sum(axis=1)\n",
    "    P_i_err = ((emp_i - p_i)**2).mean()\n",
    "    \n",
    "    emp_i_inv = np.diag(1.0 / emp_i)\n",
    "    emp_sim = emp_i_inv.dot(emp_ij).dot(emp_i_inv)\n",
    "    sim_err = ((emp_sim - similarities)**2).mean()\n",
    "    \n",
    "    emp_pmi = np.log(emp_sim)\n",
    "    emp_pmi[emp_pmi == -np.inf] = 0\n",
    "    pmi_error = ((emp_pmi - pmis)**2).mean()\n",
    "    print(n, P_ij_err, P_i_err, sim_err, pmi_error)"
   ]
  },
  {
   "cell_type": "code",
   "execution_count": null,
   "metadata": {},
   "outputs": [],
   "source": []
  }
 ],
 "metadata": {
  "kernelspec": {
   "display_name": "Python (research)",
   "language": "python",
   "name": "research"
  },
  "language_info": {
   "codemirror_mode": {
    "name": "ipython",
    "version": 3
   },
   "file_extension": ".py",
   "mimetype": "text/x-python",
   "name": "python",
   "nbconvert_exporter": "python",
   "pygments_lexer": "ipython3",
   "version": "3.6.5"
  }
 },
 "nbformat": 4,
 "nbformat_minor": 2
}
