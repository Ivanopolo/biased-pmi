{
 "cells": [
  {
   "cell_type": "code",
   "execution_count": 113,
   "metadata": {},
   "outputs": [],
   "source": [
    "import numpy as np\n",
    "from sklearn.preprocessing import normalize"
   ]
  },
  {
   "cell_type": "code",
   "execution_count": 139,
   "metadata": {},
   "outputs": [
    {
     "name": "stdout",
     "output_type": "stream",
     "text": [
      "0\t0\t12.84653999234716\t866\n",
      "0\t1\t13.166703316823627\t1650\n",
      "0\t2\t12.658814964905664\t534\n",
      "0\t3\t2.357188084307421\t2162\n",
      "0\t4\t11.734427195066289\t1226\n",
      "0\t5\t12.343865896498913\t2505\n",
      "0\t6\t11.584198330857575\t540\n",
      "0\t7\t2.357188084307485\t2359\n",
      "0\t8\t12.841068642048121\t1414\n",
      "0\t9\t12.192828881078894\t967\n",
      "0\t10\t12.29587632211778\t615\n",
      "0\t11\t14.489232942471608\t631\n",
      "0\t12\t12.28171078263699\t759\n",
      "0\t13\t13.738396950336675\t615\n",
      "0\t14\t14.445129015135228\t674\n",
      "0\t15\t14.255620186044283\t582\n",
      "0\t16\t13.101285655786524\t1251\n",
      "0\t17\t12.868429492782562\t900\n",
      "0\t18\t2.267164019373977e-11\t6808\n"
     ]
    }
   ],
   "source": [
    "n = 100\n",
    "k = 2\n",
    "\n",
    "for mat_seed in range(1):\n",
    "    rng = np.random.RandomState(mat_seed)\n",
    "    A = np.triu(rng.normal(size=[n, n]), k=1)\n",
    "    A += A.T\n",
    "    assert(np.allclose(A, A.T))\n",
    "\n",
    "    for init_seed in range(20):\n",
    "        rng = np.random.RandomState(init_seed)\n",
    "        X = rng.normal(size=[n, k])\n",
    "        X, _ = np.linalg.qr(X)\n",
    "        X = normalize(X)\n",
    "        X_prev = X.copy()\n",
    "        eps = 1e-13\n",
    "        iters = 0\n",
    "        diff = np.inf\n",
    "        diff_prev = -np.inf\n",
    "        \n",
    "        while diff > eps and iters < 30000:\n",
    "            X = A.dot(X)\n",
    "            X, _ = np.linalg.qr(X)\n",
    "            X = normalize(X)\n",
    "\n",
    "            diff = np.linalg.norm(X-X_prev)\n",
    "            if np.abs(diff - diff_prev) < eps:\n",
    "                break\n",
    "                \n",
    "            X_prev = X.copy()\n",
    "            diff_prev = diff\n",
    "            iters += 1\n",
    "\n",
    "#         if diff < eps:\n",
    "        \n",
    "        print(f\"{mat_seed}\\t{init_seed}\\t{diff}\\t{iters}\")\n",
    "        if diff < 1e-5:\n",
    "            break"
   ]
  },
  {
   "cell_type": "code",
   "execution_count": 140,
   "metadata": {},
   "outputs": [],
   "source": [
    "# X, _ = np.linalg.qr(X)\n",
    "vals, vecs = np.linalg.eig(A)"
   ]
  },
  {
   "cell_type": "code",
   "execution_count": 141,
   "metadata": {},
   "outputs": [
    {
     "data": {
      "text/plain": [
       "array([5.46315871, 4.82894474])"
      ]
     },
     "execution_count": 141,
     "metadata": {},
     "output_type": "execute_result"
    }
   ],
   "source": [
    "cosines = np.abs(X.T.dot(vecs))\n",
    "np.max(cosines, axis=1)"
   ]
  },
  {
   "cell_type": "code",
   "execution_count": 142,
   "metadata": {},
   "outputs": [
    {
     "data": {
      "text/plain": [
       "array([0, 1])"
      ]
     },
     "execution_count": 142,
     "metadata": {},
     "output_type": "execute_result"
    }
   ],
   "source": [
    "indices = np.argmax(cosines, axis=1)\n",
    "indices"
   ]
  },
  {
   "cell_type": "code",
   "execution_count": 143,
   "metadata": {},
   "outputs": [
    {
     "data": {
      "text/plain": [
       "(0.12431077903556634, 0.06743018771715384)"
      ]
     },
     "execution_count": 143,
     "metadata": {},
     "output_type": "execute_result"
    }
   ],
   "source": [
    "norms = np.linalg.norm(vecs[:, indices], axis=1)\n",
    "norms.mean(), norms.std()"
   ]
  },
  {
   "cell_type": "code",
   "execution_count": 144,
   "metadata": {},
   "outputs": [
    {
     "data": {
      "text/plain": [
       "(0.12431077903556634, 0.06743018771715384)"
      ]
     },
     "execution_count": 144,
     "metadata": {},
     "output_type": "execute_result"
    }
   ],
   "source": [
    "norms = np.linalg.norm(vecs[:, :k], axis=1)\n",
    "norms.mean(), norms.std()"
   ]
  },
  {
   "cell_type": "code",
   "execution_count": null,
   "metadata": {},
   "outputs": [],
   "source": []
  }
 ],
 "metadata": {
  "kernelspec": {
   "display_name": "Python (research)",
   "language": "python",
   "name": "research"
  },
  "language_info": {
   "codemirror_mode": {
    "name": "ipython",
    "version": 3
   },
   "file_extension": ".py",
   "mimetype": "text/x-python",
   "name": "python",
   "nbconvert_exporter": "python",
   "pygments_lexer": "ipython3",
   "version": "3.6.5"
  }
 },
 "nbformat": 4,
 "nbformat_minor": 2
}
