{
 "cells": [
  {
   "cell_type": "code",
   "execution_count": 26,
   "metadata": {},
   "outputs": [
    {
     "name": "stdout",
     "output_type": "stream",
     "text": [
      "[1. 1. 1. 1. 1.] [0.99999114 1.00002225 0.99999797 0.99998379 0.99999218]\n"
     ]
    },
    {
     "name": "stderr",
     "output_type": "stream",
     "text": [
      "/Users/i.lobov/research/lib/python3.6/site-packages/ipykernel_launcher.py:23: RuntimeWarning: divide by zero encountered in log\n"
     ]
    }
   ],
   "source": [
    "import numpy as np\n",
    "import scipy as sp\n",
    "from scipy import linalg as sp_linalg\n",
    "from sinkhorn_knopp import sinkhorn_knopp as skp\n",
    "\n",
    "V = 100\n",
    "\n",
    "rng = np.random.RandomState(0)\n",
    "P_x_given_y = np.triu(rng.uniform(low=0.1, high=0.9, size=[V, V]), k=1) # 0's on the diagonal\n",
    "P_x_given_y += P_x_given_y.T # P(x|y) = P(y|x)\n",
    "\n",
    "sk = skp.SinkhornKnopp()\n",
    "P_x_given_y = sk.fit(P_x_given_y) #Produces approximately doubly stochastic P(x|y)=P(y|x) matrix\n",
    "print(P_x_given_y.sum(axis=1)[:5], P_x_given_y.sum(axis=0)[:5])\n",
    "\n",
    "p_i = rng.power(a=1.0, size=V)\n",
    "p_i /= p_i.sum() # p_i should sum to 1\n",
    "assert p_i.sum() == 1\n",
    "P_i = np.diag(p_i)\n",
    "P_i_inv = np.diag(1.0 / p_i)\n",
    "\n",
    "similarities = P_x_given_y.dot(P_i_inv)\n",
    "pmis = np.log(similarities)\n",
    "P_ij = P_i.dot(similarities).dot(P_i) # P_ij should sum to 1\n",
    "assert P_ij.sum() == 1"
   ]
  },
  {
   "cell_type": "code",
   "execution_count": null,
   "metadata": {},
   "outputs": [],
   "source": []
  }
 ],
 "metadata": {
  "kernelspec": {
   "display_name": "Python (research)",
   "language": "python",
   "name": "research"
  },
  "language_info": {
   "codemirror_mode": {
    "name": "ipython",
    "version": 3
   },
   "file_extension": ".py",
   "mimetype": "text/x-python",
   "name": "python",
   "nbconvert_exporter": "python",
   "pygments_lexer": "ipython3",
   "version": "3.6.5"
  }
 },
 "nbformat": 4,
 "nbformat_minor": 2
}
