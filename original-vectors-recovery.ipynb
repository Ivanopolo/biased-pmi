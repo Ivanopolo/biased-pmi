{
 "cells": [
  {
   "cell_type": "code",
   "execution_count": 135,
   "metadata": {},
   "outputs": [],
   "source": [
    "import numpy as np\n",
    "import scipy as sp\n",
    "from scipy import linalg as sp_linalg\n",
    "import scipy.sparse\n",
    "import matplotlib.pyplot as plt\n",
    "from sklearn.datasets import make_blobs\n",
    "from sklearn.metrics.pairwise import euclidean_distances\n",
    "from sklearn.preprocessing import normalize\n",
    "%matplotlib inline\n",
    "\n",
    "def lognormal_similarity_seed(rng, V):\n",
    "    return rng.lognormal(mean=1, sigma=1, size=[V, V])\n",
    "\n",
    "def gaussian_mixture_similarity_seed_factory(num_centers=10):\n",
    "    def inner(rng, V):\n",
    "        X, labels = make_blobs(n_samples=V,\n",
    "                   n_features=num_centers,\n",
    "                   centers=num_centers,\n",
    "                   cluster_std=1.0,\n",
    "                   shuffle=False,\n",
    "                   random_state=rng)\n",
    "        \n",
    "        dist = euclidean_distances(X)\n",
    "        inv_dist = 1.0 / dist\n",
    "        inv_dist[inv_dist == np.inf] = 0\n",
    "        inv_dist /= inv_dist.mean()\n",
    "        return inv_dist\n",
    "    return inner\n",
    "\n",
    "def generate_data(V=1000, power_law_alpha=1.0, similarity_seed_fun=lognormal_similarity_seed, seed=0):\n",
    "    rng = np.random.RandomState(seed)\n",
    "    power_law_seed = rng.power(a=power_law_alpha, size=V)\n",
    "    P_ij = np.triu(similarity_seed_fun(rng, V), k=1)\n",
    "    P_ij *= power_law_seed\n",
    "    P_ij += P_ij.T #P_ij == P_ji\n",
    "    P_ij /= P_ij.sum()\n",
    "\n",
    "    p_i = P_ij.sum(axis=1)\n",
    "    P_i = np.diag(p_i)\n",
    "    P_i_inv = np.diag(1.0 / p_i)\n",
    "    similarities = P_i_inv.dot(P_ij).dot(P_i_inv)\n",
    "\n",
    "    pmis = np.log(similarities)\n",
    "    pmis[pmis == -np.inf] = 0\n",
    "\n",
    "    assert np.allclose(similarities, similarities.T)\n",
    "    assert np.allclose(similarities.dot(P_i).sum(axis=1), 1)\n",
    "    assert np.allclose(P_ij, P_ij.T)\n",
    "    assert np.allclose(pmis, pmis.T)\n",
    "    assert np.allclose(P_i.sum(), 1)\n",
    "    assert np.allclose(P_ij.sum(), 1)\n",
    "    return P_ij, p_i, similarities, pmis\n",
    "\n",
    "def sample_and_estimate(P_ij, sampling_factor=1.0, seed=0):\n",
    "    rng = np.random.RandomState(seed)\n",
    "    n = V**2 * sampling_factor\n",
    "\n",
    "    emp_ij = rng.multinomial(n, P_ij.flatten()).reshape([V, V])\n",
    "    emp_ij = emp_ij / emp_ij.sum()\n",
    "\n",
    "    emp_i = emp_ij.sum(axis=1)\n",
    "    non_zeros = emp_i != 0\n",
    "    emp_ij = emp_ij[non_zeros][:, non_zeros]\n",
    "    emp_i = emp_i[non_zeros]\n",
    "\n",
    "    emp_i_inv = np.diag(1.0 / emp_i)\n",
    "    emp_sim = emp_i_inv.dot(emp_ij).dot(emp_i_inv)\n",
    "\n",
    "    emp_pmi = np.log(emp_sim)\n",
    "    emp_pmi[emp_pmi == -np.inf] = 0\n",
    "    return emp_pmi, non_zeros\n",
    "\n",
    "def get_neighbors(sims, k=10):\n",
    "    neighbors = []\n",
    "    for i in range(sims.shape[0]):\n",
    "        neighbors.append(np.argsort(-sims[i])[:k])\n",
    "        \n",
    "    return np.asarray(neighbors)\n",
    "\n",
    "def recall(neighbors1, neighbors2):\n",
    "    intersection = 0.0\n",
    "    for i in range(neighbors1.shape[0]):\n",
    "        intersection += len(set(neighbors1[i]) & set(neighbors2[i]))\n",
    "        \n",
    "    return intersection / (neighbors1.shape[0] * neighbors1.shape[1])"
   ]
  },
  {
   "cell_type": "code",
   "execution_count": 144,
   "metadata": {},
   "outputs": [
    {
     "name": "stderr",
     "output_type": "stream",
     "text": [
      "/Users/i.lobov/research/lib/python3.6/site-packages/ipykernel_launcher.py:24: RuntimeWarning: divide by zero encountered in true_divide\n",
      "/Users/i.lobov/research/lib/python3.6/site-packages/ipykernel_launcher.py:43: RuntimeWarning: divide by zero encountered in log\n",
      "/Users/i.lobov/research/lib/python3.6/site-packages/ipykernel_launcher.py:69: RuntimeWarning: divide by zero encountered in log\n"
     ]
    },
    {
     "name": "stdout",
     "output_type": "stream",
     "text": [
      "0.1 0.48624 0.20653\n"
     ]
    },
    {
     "name": "stderr",
     "output_type": "stream",
     "text": [
      "/Users/i.lobov/research/lib/python3.6/site-packages/ipykernel_launcher.py:24: RuntimeWarning: divide by zero encountered in true_divide\n",
      "/Users/i.lobov/research/lib/python3.6/site-packages/ipykernel_launcher.py:43: RuntimeWarning: divide by zero encountered in log\n",
      "/Users/i.lobov/research/lib/python3.6/site-packages/ipykernel_launcher.py:69: RuntimeWarning: divide by zero encountered in log\n"
     ]
    },
    {
     "name": "stdout",
     "output_type": "stream",
     "text": [
      "1 0.32514 0.43927\n"
     ]
    },
    {
     "name": "stderr",
     "output_type": "stream",
     "text": [
      "/Users/i.lobov/research/lib/python3.6/site-packages/ipykernel_launcher.py:24: RuntimeWarning: divide by zero encountered in true_divide\n",
      "/Users/i.lobov/research/lib/python3.6/site-packages/ipykernel_launcher.py:43: RuntimeWarning: divide by zero encountered in log\n",
      "/Users/i.lobov/research/lib/python3.6/site-packages/ipykernel_launcher.py:69: RuntimeWarning: divide by zero encountered in log\n"
     ]
    },
    {
     "name": "stdout",
     "output_type": "stream",
     "text": [
      "10 0.33235 0.54825\n"
     ]
    }
   ],
   "source": [
    "# from scipy.stats import kendalltau\n",
    "\n",
    "V = 1000\n",
    "rank = 3\n",
    "num_neighbors = 100\n",
    "sampling_factor = 10.0\n",
    "\n",
    "for alpha in [0.1, 1, 10]:\n",
    "    P_ij, p_i, similarities, pmis = generate_data(V, power_law_alpha=alpha, \n",
    "                                                  similarity_seed_fun=gaussian_mixture_similarity_seed_factory(5))\n",
    "    emp_pmi, non_zeros = sample_and_estimate(P_ij, sampling_factor=sampling_factor)\n",
    "    sparse_emp_pmi = scipy.sparse.csr_matrix(emp_pmi)\n",
    "\n",
    "    true_pmis = pmis[non_zeros][:, non_zeros]\n",
    "    true_neighbors = get_neighbors(true_pmis, num_neighbors)\n",
    "    \n",
    "    emp_u, emp_s, emp_v = scipy.sparse.linalg.svds(sparse_emp_pmi, k=rank)\n",
    "    \n",
    "    # Honest SVD reconstruction-based ranking with -inf on diagonal\n",
    "    svd_sims = emp_u[:, :rank].dot(np.diag(emp_s[:rank])).dot(emp_v[:rank, :])\n",
    "    np.fill_diagonal(svd_sims, -np.inf)\n",
    "    svd_neighbors = get_neighbors(svd_sims, num_neighbors)\n",
    "\n",
    "    # Cosine between rows of eigenvectors with -inf on diagonal\n",
    "    normed_emp_u = normalize(emp_u[:, :rank])\n",
    "    cos_sims = normed_emp_u.dot(normed_emp_u.T)\n",
    "    np.fill_diagonal(cos_sims, -np.inf)\n",
    "    cos_neighbors = get_neighbors(cos_sims, num_neighbors)\n",
    "    \n",
    "    print(alpha, recall(true_neighbors, svd_neighbors), recall(true_neighbors, cos_neighbors))"
   ]
  },
  {
   "cell_type": "code",
   "execution_count": 141,
   "metadata": {},
   "outputs": [
    {
     "data": {
      "text/plain": [
       "array([ 24.80956045,  25.1572714 ,  27.60591235,  27.82407685,\n",
       "        29.10719434, 192.7616492 , 262.09520684, 428.74410465,\n",
       "       431.0396813 , 594.29977161])"
      ]
     },
     "execution_count": 141,
     "metadata": {},
     "output_type": "execute_result"
    }
   ],
   "source": [
    "emp_s"
   ]
  },
  {
   "cell_type": "code",
   "execution_count": null,
   "metadata": {},
   "outputs": [],
   "source": []
  },
  {
   "cell_type": "code",
   "execution_count": null,
   "metadata": {},
   "outputs": [],
   "source": []
  }
 ],
 "metadata": {
  "kernelspec": {
   "display_name": "Python (research)",
   "language": "python",
   "name": "research"
  },
  "language_info": {
   "codemirror_mode": {
    "name": "ipython",
    "version": 3
   },
   "file_extension": ".py",
   "mimetype": "text/x-python",
   "name": "python",
   "nbconvert_exporter": "python",
   "pygments_lexer": "ipython3",
   "version": "3.6.5"
  }
 },
 "nbformat": 4,
 "nbformat_minor": 2
}
