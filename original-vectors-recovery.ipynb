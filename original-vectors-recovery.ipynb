{
 "cells": [
  {
   "cell_type": "code",
   "execution_count": 89,
   "metadata": {},
   "outputs": [
    {
     "name": "stderr",
     "output_type": "stream",
     "text": [
      "/Users/i.lobov/research/lib/python3.6/site-packages/ipykernel_launcher.py:21: RuntimeWarning: divide by zero encountered in log\n"
     ]
    }
   ],
   "source": [
    "import numpy as np\n",
    "import scipy as sp\n",
    "from scipy import linalg as sp_linalg\n",
    "import matplotlib.pyplot as plt\n",
    "%matplotlib inline\n",
    "\n",
    "V = 1000\n",
    "rng = np.random.RandomState(0)\n",
    "\n",
    "power_law_seed = rng.power(a=1.0, size=V)\n",
    "P_ij = np.triu(rng.lognormal(mean=1, sigma=1, size=[V, V]), k=1)\n",
    "P_ij *= power_law_seed\n",
    "P_ij += P_ij.T #P_ij == P_ji\n",
    "P_ij /= P_ij.sum()\n",
    "\n",
    "p_i = P_ij.sum(axis=1)\n",
    "P_i = np.diag(p_i)\n",
    "P_i_inv = np.diag(1.0 / p_i)\n",
    "similarities = P_i_inv.dot(P_ij).dot(P_i_inv)\n",
    "\n",
    "pmis = np.log(similarities)\n",
    "pmis[pmis == -np.inf] = 0\n",
    "\n",
    "assert np.allclose(similarities, similarities.T)\n",
    "assert np.allclose(similarities.dot(P_i).sum(axis=1), 1)\n",
    "assert np.allclose(P_ij, P_ij.T)\n",
    "assert np.allclose(pmis, pmis.T)\n",
    "assert np.allclose(P_i.sum(), 1)\n",
    "assert np.allclose(P_ij.sum(), 1)"
   ]
  },
  {
   "cell_type": "code",
   "execution_count": 99,
   "metadata": {},
   "outputs": [
    {
     "name": "stderr",
     "output_type": "stream",
     "text": [
      "/Users/i.lobov/research/lib/python3.6/site-packages/ipykernel_launcher.py:15: RuntimeWarning: divide by zero encountered in log\n",
      "  from ipykernel import kernelapp as app\n"
     ]
    }
   ],
   "source": [
    "rng = np.random.RandomState(0)\n",
    "n = V**2 * 1.0\n",
    "\n",
    "emp_ij = rng.multinomial(n, P_ij.flatten()).reshape([V, V])\n",
    "emp_ij = emp_ij / emp_ij.sum()\n",
    "\n",
    "emp_i = emp_ij.sum(axis=1)\n",
    "non_zeros = emp_i != 0\n",
    "emp_ij = emp_ij[non_zeros][:, non_zeros]\n",
    "emp_i = emp_i[non_zeros]\n",
    "\n",
    "emp_i_inv = np.diag(1.0 / emp_i)\n",
    "emp_sim = emp_i_inv.dot(emp_ij).dot(emp_i_inv)\n",
    "\n",
    "emp_eps_pmi = np.log(emp_sim)\n",
    "emp_eps_pmi[emp_eps_pmi == -np.inf] = 0\n",
    "\n",
    "emp_ppmi = emp_eps_pmi.copy()\n",
    "emp_ppmi[emp_ppmi < 0] = 0\n",
    "\n",
    "positive_pmis = (pmis[non_zeros][:, non_zeros]).copy()\n",
    "positive_pmis[positive_pmis < 0] = 0"
   ]
  },
  {
   "cell_type": "code",
   "execution_count": 113,
   "metadata": {},
   "outputs": [],
   "source": [
    "true_pmis = pmis[non_zeros][:, non_zeros]\n",
    "# true_u, true_s, true_v = np.linalg.svd(true_pmis)\n",
    "emp_u, emp_s, emp_v = np.linalg.svd(emp_eps_pmi)\n",
    "emp_ppmi_u, emp_ppmi_s, emp_ppmi_v = np.linalg.svd(emp_ppmi)"
   ]
  },
  {
   "cell_type": "code",
   "execution_count": 114,
   "metadata": {},
   "outputs": [
    {
     "data": {
      "text/plain": [
       "(0.0453, 0.0082)"
      ]
     },
     "execution_count": 114,
     "metadata": {},
     "output_type": "execute_result"
    }
   ],
   "source": [
    "# from scipy.stats import pearsonr\n",
    "from sklearn.preprocessing import normalize\n",
    "\n",
    "def get_neighbors(sims, k=10):\n",
    "    neighbors = []\n",
    "    for i in range(sims.shape[0]):\n",
    "        neighbors.append(np.argsort(-sims[i])[:k])\n",
    "        \n",
    "    return np.asarray(neighbors)\n",
    "\n",
    "def recall(neighbors1, neighbors2):\n",
    "    intersection = 0.0\n",
    "    for i in range(neighbors1.shape[0]):\n",
    "        intersection += len(set(neighbors1[i]) & set(neighbors2[i]))\n",
    "        \n",
    "    return intersection / (neighbors1.shape[0] * neighbors1.shape[1])\n",
    "\n",
    "k = 5\n",
    "true_neighbors = get_neighbors(true_pmis)\n",
    "\n",
    "emp_sims = emp_u[:, :k].dot(np.diag(emp_s[:k])).dot(emp_v[:k, :])\n",
    "np.fill_diagonal(emp_sims, 0)\n",
    "emp_neighbors = get_neighbors(emp_sims)\n",
    "\n",
    "norm_emp_u = normalize(emp_u[:, :k])\n",
    "norm_emp_sims = norm_emp_u.dot(norm_emp_u.T)\n",
    "np.fill_diagonal(norm_emp_sims, 0)\n",
    "norm_emp_neighbors = get_neighbors(norm_emp_sims)\n",
    "\n",
    "recall(true_neighbors, emp_neighbors), recall(true_neighbors, norm_emp_neighbors)"
   ]
  },
  {
   "cell_type": "code",
   "execution_count": null,
   "metadata": {},
   "outputs": [],
   "source": []
  }
 ],
 "metadata": {
  "kernelspec": {
   "display_name": "Python (research)",
   "language": "python",
   "name": "research"
  },
  "language_info": {
   "codemirror_mode": {
    "name": "ipython",
    "version": 3
   },
   "file_extension": ".py",
   "mimetype": "text/x-python",
   "name": "python",
   "nbconvert_exporter": "python",
   "pygments_lexer": "ipython3",
   "version": "3.6.5"
  }
 },
 "nbformat": 4,
 "nbformat_minor": 2
}
