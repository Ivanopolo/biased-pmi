{
 "cells": [
  {
   "cell_type": "code",
   "execution_count": 177,
   "metadata": {},
   "outputs": [
    {
     "data": {
      "text/plain": [
       "([<matplotlib.lines.Line2D at 0x118d23f28>],\n",
       " -0.001000151053561083,\n",
       " -4999.900000499999)"
      ]
     },
     "execution_count": 177,
     "metadata": {},
     "output_type": "execute_result"
    },
    {
     "data": {
      "image/png": "[encoded data removed]",
      "text/plain": [
       "<Figure size 432x288 with 1 Axes>"
      ]
     },
     "metadata": {
      "needs_background": "light"
     },
     "output_type": "display_data"
    }
   ],
   "source": [
    "import numpy as np\n",
    "import matplotlib.pyplot as plt\n",
    "%matplotlib inline\n",
    "\n",
    "N = 10**6\n",
    "coocs = [10]\n",
    "[coocs.append(coocs[-1]*3) for _ in range(7)]\n",
    "\n",
    "p_i = np.array(coocs)/N\n",
    "p_j = np.array(coocs)/N\n",
    "sim = 1.0\n",
    "p_ij = p_i*p_j*sim\n",
    "biases = (1/(2*N))*(1/p_i + 1/p_j - 1/p_ij - 1)\n",
    "plt.plot(biases), biases.max(), biases.min()"
   ]
  },
  {
   "cell_type": "code",
   "execution_count": 176,
   "metadata": {},
   "outputs": [
    {
     "data": {
      "text/plain": [
       "(array([-5.00e+03, -5.56e+02, -6.20e+01, -7.00e+00, -1.00e+00, -0.00e+00,\n",
       "        -0.00e+00, -0.00e+00]), [10, 30, 90, 270, 810, 2430, 7290, 21870])"
      ]
     },
     "execution_count": 176,
     "metadata": {},
     "output_type": "execute_result"
    }
   ],
   "source": [
    "biases.round(0), coocs"
   ]
  }
 ],
 "metadata": {
  "kernelspec": {
   "display_name": "Python (research)",
   "language": "python",
   "name": "research"
  },
  "language_info": {
   "codemirror_mode": {
    "name": "ipython",
    "version": 3
   },
   "file_extension": ".py",
   "mimetype": "text/x-python",
   "name": "python",
   "nbconvert_exporter": "python",
   "pygments_lexer": "ipython3",
   "version": "3.6.5"
  }
 },
 "nbformat": 4,
 "nbformat_minor": 2
}
