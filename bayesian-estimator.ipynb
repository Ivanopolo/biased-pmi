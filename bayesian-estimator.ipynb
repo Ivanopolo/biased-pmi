{
 "cells": [
  {
   "cell_type": "code",
   "execution_count": 1,
   "metadata": {},
   "outputs": [
    {
     "name": "stderr",
     "output_type": "stream",
     "text": [
      "/Users/i.lobov/research/lib/python3.6/site-packages/ipykernel_launcher.py:21: RuntimeWarning: divide by zero encountered in log\n"
     ]
    }
   ],
   "source": [
    "import numpy as np\n",
    "import scipy as sp\n",
    "from scipy import linalg as sp_linalg\n",
    "import matplotlib.pyplot as plt\n",
    "%matplotlib inline\n",
    "\n",
    "V = 100\n",
    "rng = np.random.RandomState(0)\n",
    "\n",
    "power_law_seed = rng.power(a=1.0, size=V)\n",
    "P_ij = np.triu(rng.lognormal(mean=1, sigma=1, size=[V, V]), k=1)\n",
    "P_ij *= power_law_seed\n",
    "P_ij += P_ij.T #P_ij == P_ji\n",
    "P_ij /= P_ij.sum()\n",
    "\n",
    "p_i = P_ij.sum(axis=1)\n",
    "P_i = np.diag(p_i)\n",
    "P_i_inv = np.diag(1.0 / p_i)\n",
    "similarities = P_i_inv.dot(P_ij).dot(P_i_inv)\n",
    "\n",
    "pmis = np.log(similarities)\n",
    "pmis[pmis == -np.inf] = 0\n",
    "\n",
    "assert np.allclose(similarities, similarities.T)\n",
    "assert np.allclose(similarities.dot(P_i).sum(axis=1), 1)\n",
    "assert np.allclose(P_ij, P_ij.T)\n",
    "assert np.allclose(pmis, pmis.T)\n",
    "assert np.allclose(P_i.sum(), 1)\n",
    "assert np.allclose(P_ij.sum(), 1)"
   ]
  },
  {
   "cell_type": "code",
   "execution_count": 10,
   "metadata": {},
   "outputs": [
    {
     "name": "stderr",
     "output_type": "stream",
     "text": [
      "/Users/i.lobov/research/lib/python3.6/site-packages/ipykernel_launcher.py:15: RuntimeWarning: divide by zero encountered in log\n",
      "  from ipykernel import kernelapp as app\n"
     ]
    }
   ],
   "source": [
    "rng = np.random.RandomState(0)\n",
    "n = V**2 * 0.3\n",
    "\n",
    "emp_ij = rng.multinomial(n, P_ij.flatten()).reshape([V, V])\n",
    "emp_ij = emp_ij / emp_ij.sum()\n",
    "\n",
    "emp_i = emp_ij.sum(axis=1)\n",
    "non_zeros = emp_i != 0\n",
    "emp_ij = emp_ij[non_zeros][:, non_zeros]\n",
    "emp_i = emp_i[non_zeros]\n",
    "\n",
    "emp_i_inv = np.diag(1.0 / emp_i)\n",
    "emp_sim = emp_i_inv.dot(emp_ij).dot(emp_i_inv)\n",
    "\n",
    "emp_eps_pmi = np.log(emp_sim)\n",
    "emp_eps_pmi[emp_eps_pmi == -np.inf] = 0\n",
    "\n",
    "emp_ppmi = emp_eps_pmi.copy()\n",
    "emp_ppmi[emp_ppmi < 0] = 0\n",
    "\n",
    "positive_pmis = (pmis[non_zeros][:, non_zeros]).copy()\n",
    "positive_pmis[positive_pmis < 0] = 0"
   ]
  },
  {
   "cell_type": "code",
   "execution_count": 24,
   "metadata": {},
   "outputs": [],
   "source": []
  },
  {
   "cell_type": "code",
   "execution_count": 64,
   "metadata": {},
   "outputs": [],
   "source": [
    "emp_ij = rng.multinomial(n, P_ij.flatten()).reshape([V, V])\n",
    "emp_i = emp_ij.sum(axis=1)\n",
    "non_zeros = emp_i != 0\n",
    "emp_ij = emp_ij[non_zeros][:, non_zeros]\n",
    "emp_i = emp_i[non_zeros]\n",
    "emp_i = emp_i / emp_i.sum()\n",
    "\n",
    "### Estimate prior parameters alpha and beta\n",
    "mu = emp_i.reshape([-1,1]).dot(emp_i.reshape(1, -1))\n",
    "var = 0.1\n",
    "alpha = ((1-mu)/var - 1.0/mu)*mu**2\n",
    "beta = alpha * (1/mu - 1)\n",
    "assert np.allclose(mu, alpha / (alpha + beta))\n",
    "\n",
    "### Estimate posterior parameters\n",
    "alpha_post = alpha + emp_ij\n",
    "beta_post = beta + n - emp_ij\n",
    "mu_post = alpha_post / (alpha_post+beta_post)\n",
    "prediction = n * mu_post"
   ]
  },
  {
   "cell_type": "code",
   "execution_count": 70,
   "metadata": {},
   "outputs": [
    {
     "data": {
      "text/plain": [
       "array([[-0., -0., -0., ..., -0., -0., -0.],\n",
       "       [-0., -0., -0., ...,  1., -0., -0.],\n",
       "       [-0., -0., -0., ...,  1., -0., -0.],\n",
       "       ...,\n",
       "       [-0., -0., -0., ..., -0., -0.,  1.],\n",
       "       [-0., -0., -0., ..., -0., -0., -0.],\n",
       "       [-0., -0., -0., ...,  1.,  2., -0.]])"
      ]
     },
     "execution_count": 70,
     "metadata": {},
     "output_type": "execute_result"
    }
   ],
   "source": [
    "prediction.round(2)"
   ]
  },
  {
   "cell_type": "code",
   "execution_count": 68,
   "metadata": {},
   "outputs": [
    {
     "data": {
      "text/plain": [
       "array([[0, 0, 0, ..., 0, 0, 0],\n",
       "       [0, 0, 0, ..., 1, 0, 0],\n",
       "       [0, 0, 0, ..., 1, 0, 0],\n",
       "       ...,\n",
       "       [0, 0, 0, ..., 0, 0, 1],\n",
       "       [0, 0, 0, ..., 0, 0, 0],\n",
       "       [0, 0, 0, ..., 1, 2, 0]])"
      ]
     },
     "execution_count": 68,
     "metadata": {},
     "output_type": "execute_result"
    }
   ],
   "source": [
    "emp_ij"
   ]
  },
  {
   "cell_type": "code",
   "execution_count": 45,
   "metadata": {},
   "outputs": [
    {
     "data": {
      "text/plain": [
       "(-6.976562670000004, 1.7032726700000016)"
      ]
     },
     "execution_count": 45,
     "metadata": {},
     "output_type": "execute_result"
    }
   ],
   "source": [
    "alpha[-2,-2], beta[-2,-2]"
   ]
  },
  {
   "cell_type": "code",
   "execution_count": null,
   "metadata": {},
   "outputs": [],
   "source": []
  }
 ],
 "metadata": {
  "kernelspec": {
   "display_name": "Python (research)",
   "language": "python",
   "name": "research"
  },
  "language_info": {
   "codemirror_mode": {
    "name": "ipython",
    "version": 3
   },
   "file_extension": ".py",
   "mimetype": "text/x-python",
   "name": "python",
   "nbconvert_exporter": "python",
   "pygments_lexer": "ipython3",
   "version": "3.6.5"
  }
 },
 "nbformat": 4,
 "nbformat_minor": 2
}
