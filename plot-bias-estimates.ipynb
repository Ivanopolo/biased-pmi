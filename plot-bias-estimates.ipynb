{
 "cells": [
  {
   "cell_type": "code",
   "execution_count": 217,
   "metadata": {},
   "outputs": [
    {
     "data": {
      "text/plain": [
       "([<matplotlib.lines.Line2D at 0x119a30630>],\n",
       " 0.004443944444444444,\n",
       " -3.3065071523346977e-07)"
      ]
     },
     "execution_count": 217,
     "metadata": {},
     "output_type": "execute_result"
    },
    {
     "data": {
      "image/png": "[encoded data removed]",
      "text/plain": [
       "<Figure size 432x288 with 1 Axes>"
      ]
     },
     "metadata": {
      "needs_background": "light"
     },
     "output_type": "display_data"
    }
   ],
   "source": [
    "import numpy as np\n",
    "import matplotlib.pyplot as plt\n",
    "%matplotlib inline\n",
    "\n",
    "N = 10**6\n",
    "coocs = [100]\n",
    "[coocs.append(coocs[-1]*3) for _ in range(10)]\n",
    "\n",
    "p_i = np.array(coocs)/N\n",
    "p_j = np.array(coocs)/N\n",
    "# p_i = 1.0000e-06\n",
    "# p_j = p_i\n",
    "# sim = np.array([1, 10, 100, 1000])\n",
    "sim = 0.9 / p_i[0]\n",
    "p_ij = p_i*p_j*sim\n",
    "biases = (1/(2*N))*(1/p_i + 1/p_j - 1/p_ij - 1)\n",
    "plt.plot(biases), biases.max(), biases.min()"
   ]
  },
  {
   "cell_type": "code",
   "execution_count": 216,
   "metadata": {},
   "outputs": [
    {
     "data": {
      "text/plain": [
       "array([-4.99000050e+00, -5.52222722e-01, -6.06177840e-02, -6.48884019e-03,\n",
       "       -6.39122161e-04, -4.40231757e-05,  3.80903901e-06,  3.02709792e-06,\n",
       "        9.08005037e-07, -4.85323971e-09, -3.32083108e-07])"
      ]
     },
     "execution_count": 216,
     "metadata": {},
     "output_type": "execute_result"
    }
   ],
   "source": [
    "biases"
   ]
  },
  {
   "cell_type": "code",
   "execution_count": 203,
   "metadata": {},
   "outputs": [
    {
     "data": {
      "text/plain": [
       "array([1.0000e-04, 3.0000e-04, 9.0000e-04, 2.7000e-03, 8.1000e-03,\n",
       "       2.4300e-02, 7.2900e-02, 2.1870e-01, 6.5610e-01, 1.9683e+00,\n",
       "       5.9049e+00])"
      ]
     },
     "execution_count": 203,
     "metadata": {},
     "output_type": "execute_result"
    }
   ],
   "source": [
    "p_i"
   ]
  },
  {
   "cell_type": "code",
   "execution_count": 210,
   "metadata": {},
   "outputs": [
    {
     "data": {
      "text/plain": [
       "22026.465794806718"
      ]
     },
     "execution_count": 210,
     "metadata": {},
     "output_type": "execute_result"
    }
   ],
   "source": [
    "np.exp(10)"
   ]
  },
  {
   "cell_type": "code",
   "execution_count": 202,
   "metadata": {},
   "outputs": [
    {
     "data": {
      "text/plain": [
       "2.302585092994046"
      ]
     },
     "execution_count": 202,
     "metadata": {},
     "output_type": "execute_result"
    }
   ],
   "source": [
    "np.log(10)"
   ]
  },
  {
   "cell_type": "code",
   "execution_count": 176,
   "metadata": {},
   "outputs": [
    {
     "data": {
      "text/plain": [
       "(array([-5.00e+03, -5.56e+02, -6.20e+01, -7.00e+00, -1.00e+00, -0.00e+00,\n",
       "        -0.00e+00, -0.00e+00]), [10, 30, 90, 270, 810, 2430, 7290, 21870])"
      ]
     },
     "execution_count": 176,
     "metadata": {},
     "output_type": "execute_result"
    }
   ],
   "source": [
    "biases.round(0), coocs"
   ]
  }
 ],
 "metadata": {
  "kernelspec": {
   "display_name": "Python (research)",
   "language": "python",
   "name": "research"
  },
  "language_info": {
   "codemirror_mode": {
    "name": "ipython",
    "version": 3
   },
   "file_extension": ".py",
   "mimetype": "text/x-python",
   "name": "python",
   "nbconvert_exporter": "python",
   "pygments_lexer": "ipython3",
   "version": "3.6.5"
  }
 },
 "nbformat": 4,
 "nbformat_minor": 2
}
