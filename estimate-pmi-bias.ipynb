{
 "cells": [
  {
   "cell_type": "code",
   "execution_count": 95,
   "metadata": {},
   "outputs": [
    {
     "name": "stderr",
     "output_type": "stream",
     "text": [
      "/Users/i.lobov/research/lib/python3.6/site-packages/ipykernel_launcher.py:17: RuntimeWarning: divide by zero encountered in log\n"
     ]
    }
   ],
   "source": [
    "import numpy as np\n",
    "import scipy as sp\n",
    "from scipy import linalg as sp_linalg\n",
    "from sinkhorn_knopp import sinkhorn_knopp as skp\n",
    "\n",
    "V = 100\n",
    "rng = np.random.RandomState(0)\n",
    "\n",
    "p_i = rng.power(a=1.0, size=V)\n",
    "p_i /= p_i.sum() # p_i should sum to 1\n",
    "assert np.allclose(p_i.sum(), 1)\n",
    "P_i = np.diag(p_i)\n",
    "\n",
    "similarities = np.triu(rng.lognormal(mean=1, sigma=2, size=[V, V]), k=1)\n",
    "similarities += similarities.T\n",
    "\n",
    "pmis = np.log(similarities)\n",
    "P_ij = P_i.dot(similarities).dot(P_i) # P_ij should sum to 1\n",
    "norm_const = P_ij.sum()\n",
    "similarities /= norm_const\n",
    "P_ij = P_i.dot(similarities).dot(P_i)\n",
    "assert np.allclose(P_ij.sum(), 1)\n",
    "assert np.allclose(P_ij, P_ij.T)"
   ]
  },
  {
   "cell_type": "code",
   "execution_count": 61,
   "metadata": {},
   "outputs": [],
   "source": [
    "rng = np.random.RandomState(0)\n",
    "n = 10000\n",
    "emp_ij = rng.multinomial(n, P_ij.flatten()).reshape([V, V])"
   ]
  },
  {
   "cell_type": "code",
   "execution_count": 64,
   "metadata": {},
   "outputs": [],
   "source": []
  },
  {
   "cell_type": "code",
   "execution_count": 65,
   "metadata": {},
   "outputs": [
    {
     "data": {
      "text/plain": [
       "array([[0.    , 0.0003, 0.0002, ..., 0.    , 0.0004, 0.    ],\n",
       "       [0.0001, 0.    , 0.0001, ..., 0.    , 0.    , 0.    ],\n",
       "       [0.    , 0.0001, 0.    , ..., 0.0002, 0.0004, 0.0004],\n",
       "       ...,\n",
       "       [0.0001, 0.    , 0.0001, ..., 0.    , 0.    , 0.    ],\n",
       "       [0.    , 0.    , 0.    , ..., 0.0001, 0.    , 0.    ],\n",
       "       [0.0002, 0.    , 0.    , ..., 0.    , 0.    , 0.    ]])"
      ]
     },
     "execution_count": 65,
     "metadata": {},
     "output_type": "execute_result"
    }
   ],
   "source": [
    "emp_P_ij"
   ]
  },
  {
   "cell_type": "code",
   "execution_count": null,
   "metadata": {},
   "outputs": [],
   "source": []
  }
 ],
 "metadata": {
  "kernelspec": {
   "display_name": "Python (research)",
   "language": "python",
   "name": "research"
  },
  "language_info": {
   "codemirror_mode": {
    "name": "ipython",
    "version": 3
   },
   "file_extension": ".py",
   "mimetype": "text/x-python",
   "name": "python",
   "nbconvert_exporter": "python",
   "pygments_lexer": "ipython3",
   "version": "3.6.5"
  }
 },
 "nbformat": 4,
 "nbformat_minor": 2
}
